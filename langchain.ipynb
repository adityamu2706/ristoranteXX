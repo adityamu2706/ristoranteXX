{
 "cells": [
  {
   "cell_type": "code",
   "execution_count": 72,
   "metadata": {},
   "outputs": [],
   "source": [
    "import os\n",
    "from langchain.llms import OpenAI\n",
    "\n",
    "#setting up th open api key\n",
    "\n",
    "#temperature makes the model more creative. It scales between 0 and 1.\n",
    "#0 is not creative at all. 1 is very creative. \n",
    "llm = OpenAI(temperature = 0.6) \n",
    "\n",
    "#Generating answers to random prompts\n",
    "#name = llm(\"\") \n",
    "#print(name)\n"
   ]
  },
  {
   "cell_type": "code",
   "execution_count": null,
   "metadata": {},
   "outputs": [],
   "source": [
    "#Using prompt templates \n",
    "from langchain.prompts import PromptTemplate\n",
    "prompt_template_name = PromptTemplate(\n",
    "    input_variables = ['cuisine'], \n",
    "    template = \"I want to open a restaurant for {cuisine} food. Suggest a fancy name.\"\n",
    ")\n",
    "\n",
    "#prompt_template_name.format(topic = \"Cristiano Ronaldo\")"
   ]
  },
  {
   "cell_type": "code",
   "execution_count": null,
   "metadata": {},
   "outputs": [],
   "source": [
    "from langchain.chains import LLMChain\n",
    "\n",
    "#Chains help in chaining the llm and the prompt. \n",
    "chain = LLMChain(llm = llm, prompt = prompt_template_name)\n",
    "chain.run(\"aa\")"
   ]
  },
  {
   "cell_type": "code",
   "execution_count": null,
   "metadata": {},
   "outputs": [],
   "source": [
    "llm = OpenAI(temperature = 0.6) \n",
    "prompt_template_name = PromptTemplate(\n",
    "    input_variables = ['cuisine'], \n",
    "    template = \"I want to open a restaurant for {cuisine} food. Suggest a fancy name.\"\n",
    ")\n",
    "\n",
    "name_chain = LLMChain(llm = llm, prompt = prompt_template_name)\n",
    "\n",
    "prompt_template_items = PromptTemplate(\n",
    "    input_variables = ['restaurant_name'], \n",
    "    template = \"Suggest some menu items for {restaurant_name}. Return it as a comma-seperated list.\"\n",
    ")\n",
    "food_items_chain = LLMChain(llm = llm, prompt = prompt_template_items)\n",
    "\n",
    "\n"
   ]
  },
  {
   "cell_type": "code",
   "execution_count": null,
   "metadata": {},
   "outputs": [],
   "source": [
    "from langchain.chains import SimpleSequentialChain\n",
    "chain = SimpleSequentialChain(chains = [name_chain, food_items_chain])\n",
    "response = chain.run(\"Turkish\")\n",
    "print(response)"
   ]
  },
  {
   "cell_type": "code",
   "execution_count": 69,
   "metadata": {},
   "outputs": [],
   "source": [
    "llm = OpenAI(temperature = 1) \n",
    "prompt_template_name = PromptTemplate(\n",
    "    input_variables = ['cuisine'], \n",
    "    template = \"I want to open a restaurant for {cuisine} food. Suggest a fancy name.\"\n",
    ")\n",
    "\n",
    "#For Sequential Chains, we will have output keys for both chains - name and food items chain\n",
    "name_chain = LLMChain(llm = llm, prompt = prompt_template_name, output_key = \"restaurant_name\")\n",
    "\n",
    "prompt_template_items = PromptTemplate(\n",
    "    input_variables = ['restaurant_name'], \n",
    "    template = \"Suggest some menu items for {restaurant_name}. Return it as a comma-seperated list.\"\n",
    ")\n",
    "food_items_chain = LLMChain(llm = llm, prompt = prompt_template_items, output_key = \"menu_items\")"
   ]
  },
  {
   "cell_type": "code",
   "execution_count": 70,
   "metadata": {},
   "outputs": [
    {
     "data": {
      "text/plain": [
       "{'cuisine': 'Arabic',\n",
       " 'restaurant_name': \"\\n\\nSultan's Palace or Arabian Nights Bistro\",\n",
       " 'menu_items': '\\n\\n1. Hummus and Pita Bread\\n2. Falafel Platter \\n3. Shawarma Wrap \\n4. Chicken or Lamb Kabobs \\n5. Tabouleh Salad \\n6. Baba Ghanoush \\n7. Moroccan Couscous \\n8. Lentil Soup \\n9. Spicy Shrimp Tagine \\n10. Baklava for dessert '}"
      ]
     },
     "execution_count": 70,
     "metadata": {},
     "output_type": "execute_result"
    }
   ],
   "source": [
    "from langchain.chains import SequentialChain\n",
    "chain = SequentialChain(\n",
    "    chains = [name_chain, food_items_chain], \n",
    "    input_variables = ['cuisine'], \n",
    "    output_variables = ['restaurant_name', 'menu_items']\n",
    ")\n",
    "\n",
    "chain({'cuisine': 'Arabic'})"
   ]
  },
  {
   "cell_type": "markdown",
   "metadata": {},
   "source": []
  }
 ],
 "metadata": {
  "kernelspec": {
   "display_name": "env",
   "language": "python",
   "name": "python3"
  },
  "language_info": {
   "codemirror_mode": {
    "name": "ipython",
    "version": 3
   },
   "file_extension": ".py",
   "mimetype": "text/x-python",
   "name": "python",
   "nbconvert_exporter": "python",
   "pygments_lexer": "ipython3",
   "version": "3.11.8"
  }
 },
 "nbformat": 4,
 "nbformat_minor": 2
}
